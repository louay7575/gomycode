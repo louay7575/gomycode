{
 "cells": [
  {
   "cell_type": "code",
   "execution_count": 1,
   "id": "b4dc413f",
   "metadata": {},
   "outputs": [
    {
     "name": "stdout",
     "output_type": "stream",
     "text": [
      "1\n",
      "2\n",
      "3\n",
      "(1,2,3)\n"
     ]
    }
   ],
   "source": [
    "class point_3D:                                      #001\n",
    "    def __init__(self,x,y,z):\n",
    "        \n",
    "        self.x=x\n",
    "        self.y=y\n",
    "        self.z=z\n",
    "    def coordonner(self):\n",
    "        return(\"({},{},{})\".format(self.x,self.y,self.z))\n",
    "\n",
    "my_point=point_3D(1,2,3)\n",
    "print(my_point.x)\n",
    "print(my_point.y)\n",
    "print(my_point.z)\n",
    "print(my_point.coordonner())\n",
    "        \n",
    "    "
   ]
  },
  {
   "cell_type": "code",
   "execution_count": 2,
   "id": "40b4b262",
   "metadata": {},
   "outputs": [
    {
     "name": "stdout",
     "output_type": "stream",
     "text": [
      "4\n",
      "3\n",
      "12\n",
      "14\n"
     ]
    }
   ],
   "source": [
    "class rectangle:                                #002\n",
    "    def __init__(self,l,w):\n",
    "        if l>=w:\n",
    "            self.lengh=l\n",
    "            self.width=w\n",
    "        else:\n",
    "            self.lengh=w\n",
    "            self.width=l\n",
    "    def area(self):\n",
    "        return self.lengh*self.width\n",
    "    def perimeter(self):\n",
    "        return (self.lengh+self.width)*2\n",
    "\n",
    "my_rectangle=rectangle(3,4)\n",
    "print(my_rectangle.lengh)\n",
    "print(my_rectangle.width)\n",
    "print(my_rectangle.area())\n",
    "print(my_rectangle.perimeter())"
   ]
  },
  {
   "cell_type": "code",
   "execution_count": 4,
   "id": "4aba478b",
   "metadata": {},
   "outputs": [
    {
     "name": "stdout",
     "output_type": "stream",
     "text": [
      "[2, 3]\n",
      "3\n",
      "28.285714285714285\n",
      "18.857142857142858\n",
      "x(a)=5\n",
      "y(a)=2\n",
      "the point(a) is not in the circle\n"
     ]
    }
   ],
   "source": [
    "class circle:                              #003\n",
    "    def __init__(self,x,y,r):\n",
    "        self.center=[x,y]\n",
    "        self.radius=r\n",
    "    def area(self):\n",
    "        return ((self.radius)**2)*22/7\n",
    "    def perimeter(self):\n",
    "        return 2*(self.radius)*22/7\n",
    "    def is_inside(self):\n",
    "        a=[]\n",
    "        x=float(input(\"x(a)=\"))\n",
    "        y=float(input(\"y(a)=\"))\n",
    "        a.append(x)\n",
    "        a.append(y)\n",
    "        if(a[0]-self.center[0])**2+(a[1]-self.center[1])**2<=self.radius**2:\n",
    "            return\"the point(a) in the circle\"\n",
    "        else :\n",
    "            return \"the point(a) is not in the circle\"\n",
    "    \n",
    "c=circle(2,3,3)\n",
    "print(c.center)\n",
    "print(c.radius)\n",
    "print(c.area())\n",
    "print(c.perimeter())\n",
    "print(c.is_inside())      \n"
   ]
  },
  {
   "cell_type": "code",
   "execution_count": 5,
   "id": "138e5c1a",
   "metadata": {},
   "outputs": [
    {
     "name": "stdout",
     "output_type": "stream",
     "text": [
      "balance:=1500\n",
      "1500\n",
      "deposit: 300\n",
      "you depose 300 , your new balance 1200\n",
      "widhdraw: 1230\n",
      "you widhdraw 1230 , your new balance 2430\n"
     ]
    }
   ],
   "source": [
    "class bank:                                            #004\n",
    "    def __init__(self):\n",
    "        b=int(input(\"balance:=\"))\n",
    "        self.balance=b\n",
    "    def deposit(self):\n",
    "        a=int(input(\"deposit: \"))\n",
    "        self.balance=self.balance-a\n",
    "        return (\"you depose {} , your new balance {}\".format(a,self.balance))\n",
    "    def withdraw(self):\n",
    "        a=int(input(\"widhdraw: \"))\n",
    "        self.balance=self.balance+a\n",
    "        return(\"you widhdraw {} , your new balance {}\".format(a,self.balance))\n",
    "        \n",
    "b=bank()\n",
    "print(b.balance)\n",
    "print(b.deposit())\n",
    "print(b.withdraw())"
   ]
  }
 ],
 "metadata": {
  "kernelspec": {
   "display_name": "Python 3",
   "language": "python",
   "name": "python3"
  },
  "language_info": {
   "codemirror_mode": {
    "name": "ipython",
    "version": 3
   },
   "file_extension": ".py",
   "mimetype": "text/x-python",
   "name": "python",
   "nbconvert_exporter": "python",
   "pygments_lexer": "ipython3",
   "version": "3.8.8"
  }
 },
 "nbformat": 4,
 "nbformat_minor": 5
}
