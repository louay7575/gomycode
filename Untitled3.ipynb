{
 "cells": [
  {
   "cell_type": "code",
   "execution_count": 1,
   "id": "4f97006a",
   "metadata": {},
   "outputs": [
    {
     "name": "stdout",
     "output_type": "stream",
     "text": [
      "donnee la taille de la liste:3\n",
      "donne le nombre 0 de la liste\n",
      "2\n",
      "donne le nombre 1 de la liste\n",
      "3\n",
      "donne le nombre 2 de la liste\n",
      "6\n",
      "[2, 3, 6]\n",
      "le resulta=  36\n"
     ]
    }
   ],
   "source": [
    "n=int(input(\"donnee la taille de la liste:\"))\n",
    "b=1\n",
    "l=[]\n",
    "for i in range(n):\n",
    "    print(\"donne le nombre\",i,\"de la liste\")\n",
    "    a=int(input())\n",
    "    l.insert(i,a)\n",
    "for j in range(n):\n",
    "    b=b*l[j]\n",
    "print(l)\n",
    "print(\"le resulta= \",b)"
   ]
  },
  {
   "cell_type": "code",
   "execution_count": 1,
   "id": "843084ee",
   "metadata": {},
   "outputs": [
    {
     "name": "stdout",
     "output_type": "stream",
     "text": [
      "donnee la taille de la liste:4\n",
      "donnee le tuple numero 0\n",
      "a=2\n",
      "b=2\n",
      "donnee le tuple numero 1\n",
      "a=1\n",
      "b=6\n",
      "donnee le tuple numero 2\n",
      "a=3\n",
      "b=5\n",
      "donnee le tuple numero 3\n",
      "a=4\n",
      "b=7\n",
      "la liste : [(2, 2), (1, 6), (3, 5), (4, 7)]\n",
      "le nouveaux liste:  [(2, 2), (3, 5), (1, 6), (4, 7)]\n"
     ]
    }
   ],
   "source": [
    "n=int(input(\"donnee la taille de la liste:\"))\n",
    "l=[]\n",
    "m=[]\n",
    "for i in range(n):\n",
    "    print(\"donnee le tuple numero\",i)\n",
    "    a=int(input(\"a=\"))\n",
    "    b=int(input(\"b=\"))\n",
    "    l.insert(i,(a,b))\n",
    "print(\"la liste :\",l)\n",
    "for i in range(n):\n",
    "    for j in range(n):\n",
    "        if l[i][1]<=l[j][1]:\n",
    "            l[i],l[j]=l[j],l[i]\n",
    "print(\"le nouveaux liste: \",l)\n"
   ]
  },
  {
   "cell_type": "code",
   "execution_count": 26,
   "id": "6501d155",
   "metadata": {},
   "outputs": [
    {
     "name": "stdout",
     "output_type": "stream",
     "text": [
      "a= {'a': 100, 'b': 300, 'c': 200}\n",
      "b= {'a': 200, 'b': 150, 'd': 400}\n",
      "c= {'a': 300, 'b': 450, 'c': 200, 'd': 400}\n"
     ]
    }
   ],
   "source": [
    "a={'a':100,'b':300,'c':200}\n",
    "b={'a':200,'b':150,'d':400}\n",
    "c={}\n",
    "la=[]\n",
    "lb=[]\n",
    "if len(a)>=len(b):\n",
    "    n=len(a)\n",
    "else:\n",
    "    n=len(b)\n",
    "for key in a.keys():\n",
    "    la.insert(len(a),key)\n",
    "for key in b.keys():\n",
    "    lb.insert(len(b),key)\n",
    "for i in range(n):\n",
    "    \n",
    "    c[la[i]]=a[la[i]]\n",
    "    c[lb[i]]=b[lb[i]]\n",
    "    for j in range(n):\n",
    "        if la[i]==lb[j]:\n",
    "            c[la[i]]=a[la[i]]+b[lb[j]]\n",
    "print(\"a=\",a)\n",
    "print(\"b=\",b)\n",
    "print(\"c=\",c)\n",
    "    \n",
    "\n"
   ]
  },
  {
   "cell_type": "code",
   "execution_count": 28,
   "id": "b5c59cf1",
   "metadata": {},
   "outputs": [
    {
     "name": "stdout",
     "output_type": "stream",
     "text": [
      "donnee n:8\n",
      "a= {1: 1, 2: 4, 3: 9, 4: 16, 5: 25, 6: 36, 7: 49, 8: 64}\n"
     ]
    }
   ],
   "source": [
    "n= int(input(\"donnee n:\"))\n",
    "a={}\n",
    "for i in range (1,n+1):\n",
    "    a[i]=i*i\n",
    "print(\"a=\",a)"
   ]
  },
  {
   "cell_type": "code",
   "execution_count": 33,
   "id": "4d7e4631",
   "metadata": {},
   "outputs": [
    {
     "name": "stdout",
     "output_type": "stream",
     "text": [
      "donnee le nombre de items: 3\n",
      "item  1\n",
      "donnee un nubr:12\n",
      "item  2\n",
      "donnee un nubr:13.5\n",
      "item  3\n",
      "donnee un nubr:12.5\n",
      "[('item 1', 12.0), ('item 2', 13.5), ('item 3', 12.5)]\n",
      "[('item 2', 13.5), ('item 3', 12.5), ('item 1', 12.0)]\n"
     ]
    }
   ],
   "source": [
    "a=[]\n",
    "n=int(input(\"donnee le nombre de items: \"))\n",
    "for i in range(1,1+n):\n",
    "    print(\"item \",i)\n",
    "    d=float(input(\"donnee un nubr:\"))\n",
    "    c=\"item \"+str(i)\n",
    "    a.insert(i,(c,d))\n",
    "print(a)\n",
    "for i in range(len(a)):\n",
    "    for j in range (len(a)):\n",
    "        if a[i][1]>=a[j][1]:\n",
    "            a[i],a[j]=a[j],a[i]\n",
    "print(a)\n"
   ]
  },
  {
   "cell_type": "code",
   "execution_count": null,
   "id": "e875021e",
   "metadata": {},
   "outputs": [],
   "source": []
  }
 ],
 "metadata": {
  "kernelspec": {
   "display_name": "Python 3",
   "language": "python",
   "name": "python3"
  },
  "language_info": {
   "codemirror_mode": {
    "name": "ipython",
    "version": 3
   },
   "file_extension": ".py",
   "mimetype": "text/x-python",
   "name": "python",
   "nbconvert_exporter": "python",
   "pygments_lexer": "ipython3",
   "version": "3.8.8"
  }
 },
 "nbformat": 4,
 "nbformat_minor": 5
}
