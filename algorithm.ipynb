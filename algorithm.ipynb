{
 "cells": [
  {
   "cell_type": "code",
   "execution_count": 1,
   "id": "32bbfae5",
   "metadata": {},
   "outputs": [
    {
     "data": {
      "text/plain": [
       "True"
      ]
     },
     "execution_count": 1,
     "metadata": {},
     "output_type": "execute_result"
    }
   ],
   "source": [
    "def binary_search(a,n):\n",
    "    l=0\n",
    "    h=len(a)-1\n",
    "    while h>=l:\n",
    "        m=l+(h-l)//2\n",
    "        if a[m]==n:\n",
    "            return True\n",
    "        elif a[m]>n:\n",
    "            h=m-1\n",
    "        else:\n",
    "            l=m+1\n",
    "    return False\n",
    "binary_search([1,2,3,5,8], 5)"
   ]
  },
  {
   "cell_type": "code",
   "execution_count": 2,
   "id": "a4461af7",
   "metadata": {},
   "outputs": [
    {
     "data": {
      "text/plain": [
       "81"
      ]
     },
     "execution_count": 2,
     "metadata": {},
     "output_type": "execute_result"
    }
   ],
   "source": [
    "def power(a,b):\n",
    "    if b==0:\n",
    "        return 0\n",
    "    else :\n",
    "        while b!=1:\n",
    "            b=b-1\n",
    "            return a*power(a,b)\n",
    "        return a\n",
    "        \n",
    "power(3,4)\n",
    "    "
   ]
  },
  {
   "cell_type": "code",
   "execution_count": 3,
   "id": "92249759",
   "metadata": {},
   "outputs": [
    {
     "data": {
      "text/plain": [
       "[13, 22, 29, 37, 46, 49, 52, 56, 71]"
      ]
     },
     "execution_count": 3,
     "metadata": {},
     "output_type": "execute_result"
    }
   ],
   "source": [
    "def bubble_sort(a):\n",
    "    for i in range(1,len(a)):\n",
    "        for j in range(len(a)-1):\n",
    "            if a[j]>a[j+1]:\n",
    "                a[j],a[j+1]=a[j+1],a[j]\n",
    "    return a\n",
    "bubble_sort([29,13,22,37,52,49,46,71,56])\n",
    "        "
   ]
  },
  {
   "cell_type": "code",
   "execution_count": 4,
   "id": "d87756a1",
   "metadata": {},
   "outputs": [
    {
     "name": "stdout",
     "output_type": "stream",
     "text": [
      "[13, 22, 29, 37, 46, 49, 52, 56, 71]\n"
     ]
    }
   ],
   "source": [
    "def merge_sort(a):\n",
    "    if len(a)>1:\n",
    "        a1=a[:len(a)//2]\n",
    "        a2=a[len(a)//2:]\n",
    "        merge_sort(a1)\n",
    "        merge_sort(a2)\n",
    "        i=0\n",
    "        j=0\n",
    "        k=0\n",
    "        while i<len(a1) and j<len(a2):\n",
    "            if a1[i]<a2[j]:\n",
    "                a[k]=a1[i]\n",
    "                i+=1\n",
    "            else:\n",
    "                a[k]=a2[j]\n",
    "                j+=1\n",
    "            k+=1\n",
    "        while i < len(a1):\n",
    "            a[k] =a1[i]\n",
    "            i += 1\n",
    "            k += 1\n",
    "\n",
    "        while j < len(a2):\n",
    "            a[k]=a2[j]\n",
    "            j += 1\n",
    "            k += 1\n",
    "        return a\n",
    "            \n",
    "            \n",
    "        \n",
    "a=[29,13,22,37,52,49,46,71,56]\n",
    "print(merge_sort(a))\n",
    "\n",
    "            "
   ]
  },
  {
   "cell_type": "code",
   "execution_count": 5,
   "id": "dc3a971d",
   "metadata": {},
   "outputs": [
    {
     "name": "stdout",
     "output_type": "stream",
     "text": [
      "[12, 19, 21, 27, 28, 29, 31, 41, 44, 44, 58, 66, 76, 78, 83, 87, 88, 97, 99]\n"
     ]
    }
   ],
   "source": [
    "def partition(array, start, end):\n",
    "    pivot = array[start]\n",
    "    low = start + 1\n",
    "    high = end\n",
    "    while True:\n",
    "        while low <= high and array[high] >= pivot:\n",
    "            high = high - 1\n",
    "        while low <= high and array[low] <= pivot:\n",
    "            low = low + 1\n",
    "        if low <= high:\n",
    "            array[low], array[high] = array[high], array[low]\n",
    "        else:\n",
    "            break\n",
    "    array[start], array[high] = array[high], array[start]\n",
    "    return high\n",
    "def quick_sort(array, start, end):\n",
    "    if start >= end:\n",
    "        return\n",
    "    p = partition(array, start, end)\n",
    "    quick_sort(array, start, p-1)\n",
    "    quick_sort(array, p+1, end)\n",
    "array = [29,99,27,41,66,28,44,78,87,19,31,76,58,88,83,97,12,21,44]\n",
    "end=len(array)-1\n",
    "quick_sort(array, 0, end)\n",
    "print(array)"
   ]
  },
  {
   "cell_type": "code",
   "execution_count": null,
   "id": "427df217",
   "metadata": {},
   "outputs": [],
   "source": []
  }
 ],
 "metadata": {
  "kernelspec": {
   "display_name": "Python 3",
   "language": "python",
   "name": "python3"
  },
  "language_info": {
   "codemirror_mode": {
    "name": "ipython",
    "version": 3
   },
   "file_extension": ".py",
   "mimetype": "text/x-python",
   "name": "python",
   "nbconvert_exporter": "python",
   "pygments_lexer": "ipython3",
   "version": "3.8.8"
  }
 },
 "nbformat": 4,
 "nbformat_minor": 5
}
