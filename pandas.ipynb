{
 "cells": [
  {
   "cell_type": "code",
   "execution_count": 4,
   "id": "78a4e82a",
   "metadata": {
    "scrolled": true
   },
   "outputs": [
    {
     "name": "stdout",
     "output_type": "stream",
     "text": [
      "        name score  attempts qualify\n",
      "a  Anastasia  12.5         1     yes\n",
      "b       Dima     9         3      no\n",
      "c  Katherine  16.5         2     yes\n",
      "d      James   NAN         3      no\n",
      "e      Emily     9         2      no\n",
      "f    Michael    20         3     yes\n",
      "g    Matthew  14.5         1     yes\n",
      "h      Laura   NaN         1      no\n",
      "i      Kevin     8         2      no\n",
      "j      Jonas    19         1     yes\n",
      "    name score  attempts qualify\n",
      "h  Laura   NaN         1      no\n"
     ]
    }
   ],
   "source": [
    "import pandas as pd\n",
    "import numpy as np\n",
    "d=np.nan\n",
    "exam_data = {'name': ['Anastasia', 'Dima', 'Katherine', 'James', 'Emily', 'Michael', 'Matthew', 'Laura', 'Kevin', 'Jonas'],\n",
    "'score': [12.5, 9, 16.5, \"NAN\", 9, 20, 14.5, \"NaN\", 8, 19],\n",
    "'attempts': [1, 3, 2, 3, 2, 3, 1, 1, 2, 1],\n",
    "'qualify': ['yes', 'no', 'yes', 'no', 'no', 'yes', 'yes', 'no', 'no', 'yes']}\n",
    "labels = ['a', 'b', 'c', 'd', 'e', 'f', 'g', 'h', 'i', 'j']\n",
    "\n",
    "da=pd.DataFrame(exam_data,index=labels)\n",
    "print(da)\n",
    "#print(data.head(3))\n",
    "#print(data.loc[\"a\",\"score\"])\n",
    "#a=data.drop([\"d\",\"h\"])\n",
    "#print(a)\n",
    "b=data.drop(columns=[\"name\",\"score\"])\n",
    "a=data.loc[da[\"score\"]==\"NaN\"]\n",
    "print(a)\n",
    "#print(b)\n",
    "k=pd.DataFrame({\"name\" : \"Suresh\", \"score\": 15.5, \"attempts\": 1, \"qualify\": \"yes\"},index=[\"k\"])\n",
    "#print(k)\n"
   ]
  },
  {
   "cell_type": "code",
   "execution_count": null,
   "id": "51d9f062",
   "metadata": {},
   "outputs": [],
   "source": [
    "a=pd.DataFrame({\"a\":[1,2,3],\"b\":[4,5,6]})\n",
    "b=pd.DataFrame({\"a\":[7,8,9],\"b\":[10,11,12]})\n",
    "print(a)\n",
    "print(b)\n",
    "print(pd.contact([a,b]))"
   ]
  },
  {
   "cell_type": "code",
   "execution_count": null,
   "id": "a4188d97",
   "metadata": {},
   "outputs": [],
   "source": [
    "a=np.nan\n",
    "print(type(a))\n"
   ]
  },
  {
   "cell_type": "code",
   "execution_count": null,
   "id": "1c0f056d",
   "metadata": {},
   "outputs": [],
   "source": []
  }
 ],
 "metadata": {
  "kernelspec": {
   "display_name": "Python 3",
   "language": "python",
   "name": "python3"
  },
  "language_info": {
   "codemirror_mode": {
    "name": "ipython",
    "version": 3
   },
   "file_extension": ".py",
   "mimetype": "text/x-python",
   "name": "python",
   "nbconvert_exporter": "python",
   "pygments_lexer": "ipython3",
   "version": "3.8.8"
  }
 },
 "nbformat": 4,
 "nbformat_minor": 5
}
