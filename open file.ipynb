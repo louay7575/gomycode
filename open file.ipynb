{
 "cells": [
  {
   "cell_type": "code",
   "execution_count": null,
   "id": "df38cff4",
   "metadata": {},
   "outputs": [
    {
     "name": "stdout",
     "output_type": "stream",
     "text": [
      "What is Python language?                                                \n",
      "Python is a widely used high-level, general-purpose, interpreted, dynamic programming language.Its design philosophy emphasizes code readability, and its syntax allows programmers to express concepts in fewer lines of code than possible in \n",
      "languages such as C++ or Java. \n",
      "Python supports multiple programming paradigms, including object-oriented, imperative and functional programming or procedural styles. It features a dynamic type system and automatic memory management and has a large and comprehensive standard library.The best way we learn anything is by practice and exercise questions. We  have started this section for those (beginner to intermediate) who are familiar with Python.\n",
      "What is Python language?                                                \n",
      "\n",
      "read_lines(n):3\n",
      "What is Python language?                                                \n",
      "\n",
      "Python is a widely used high-level, general-purpose, interpreted, dynamic programming language.Its design philosophy emphasizes code readability, and its syntax allows programmers to express concepts in fewer lines of code than possible in \n",
      "\n",
      "languages such as C++ or Java. \n",
      "\n",
      "read_last(n)3\n",
      "Python is a widely used high-level, general-purpose, interpreted, dynamic programming language.Its design philosophy emphasizes code readability, and its syntax allows programmers to express concepts in fewer lines of code than possible in \n",
      "\n",
      "languages such as C++ or Java. \n",
      "\n",
      "Python supports multiple programming paradigms, including object-oriented, imperative and functional programming or procedural styles. It features a dynamic type system and automatic memory management and has a large and comprehensive standard library.The best way we learn anything is by practice and exercise questions. We  have started this section for those (beginner to intermediate) who are familiar with Python.\n"
     ]
    }
   ],
   "source": [
    "def file_read(fn):\n",
    "    f=open(fn)\n",
    "    print(f.read())\n",
    "    f.close()\n",
    "\n",
    "def read_line1(a):\n",
    "    f=open(a)\n",
    "    print(f.readline())\n",
    "    f.close()\n",
    "    \n",
    "def read_lines(a,n):\n",
    "    a=open(a)\n",
    "    for i in range(1,n+1):\n",
    "        print(a.readline())\n",
    "    a.close()\n",
    "def read_last(a,n):\n",
    "    a=open(a)\n",
    "    b=a.readlines()\n",
    "    for i in range(n):\n",
    "        print(b[len(b)-n+i])\n",
    "    a.close()\n",
    "def write_file(b):\n",
    "    a=open(\"create_file.txt\",\"w\")\n",
    "    a.write(b)\n",
    "    a.close()\n",
    "    a=open(\"create_file.txt\",\"r\")\n",
    "    f=a.read()\n",
    "    a.close()\n",
    "\n",
    "    return len(f.split(\" \"))\n",
    "\n",
    "file_read(\"python.txt\")\n",
    "#print(\"******\")\n",
    "read_line1(\"python.txt\")\n",
    "#print(\"*****\")\n",
    "n=int(input(\"read_lines(n):\"))\n",
    "#print(\"*******\")\n",
    "read_lines(\"python.txt\",n)\n",
    "#print(\"*******\")\n",
    "n=int(input(\"read_last(n)\"))\n",
    "read_last(\"python.txt\",n)\n",
    "b=input(\"donnee le txt:\")\n",
    "print(\"number of words:\",write_file(b))\n",
    "\n",
    "    \n",
    "\n",
    "    \n",
    "    \n"
   ]
  },
  {
   "cell_type": "code",
   "execution_count": null,
   "id": "6ceb4b8f",
   "metadata": {},
   "outputs": [],
   "source": []
  }
 ],
 "metadata": {
  "kernelspec": {
   "display_name": "Python 3",
   "language": "python",
   "name": "python3"
  },
  "language_info": {
   "codemirror_mode": {
    "name": "ipython",
    "version": 3
   },
   "file_extension": ".py",
   "mimetype": "text/x-python",
   "name": "python",
   "nbconvert_exporter": "python",
   "pygments_lexer": "ipython3",
   "version": "3.8.8"
  }
 },
 "nbformat": 4,
 "nbformat_minor": 5
}
