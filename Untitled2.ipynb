{
 "cells": [
  {
   "cell_type": "code",
   "execution_count": 3,
   "id": "a5809f0b",
   "metadata": {},
   "outputs": [
    {
     "name": "stdout",
     "output_type": "stream",
     "text": [
      "donnee le premier number3\n",
      "donnee le deusiemme number100\n",
      "donnee le 3eme number20\n",
      "100\n"
     ]
    }
   ],
   "source": [
    "                         #question 1\n",
    "\n",
    "def max_num():\n",
    "    x=int(input(\"donnee le premier number\"))\n",
    "    y=int(input(\"donnee le deusiemme number\"))\n",
    "    z=int(input(\"donnee le 3eme number\"))\n",
    "    a=[x,y,z]\n",
    "    for i in range(len(a)):\n",
    "        for j in range(len(a)):\n",
    "            if a[i]<=a[j]:\n",
    "                a[i],a[j]=a[j],a[i]\n",
    "    return a[2]\n",
    "print(max_num())\n",
    "    \n",
    "    "
   ]
  },
  {
   "cell_type": "code",
   "execution_count": 5,
   "id": "0f7ecca0",
   "metadata": {},
   "outputs": [
    {
     "name": "stdout",
     "output_type": "stream",
     "text": [
      "donnee x: 3\n",
      "donnee y: 2\n",
      "addition: 5 subtraction: 1\n"
     ]
    }
   ],
   "source": [
    "                  #question2\n",
    "def calculator():\n",
    "    x=int(input(\"donnee x: \"))\n",
    "    y=int(input(\"donnee y: \"))\n",
    "    return (print(\"addition:\",x+y,\"subtraction:\",x-y) )\n",
    "calculator()\n"
   ]
  },
  {
   "cell_type": "code",
   "execution_count": 14,
   "id": "ff786c05",
   "metadata": {},
   "outputs": [
    {
     "name": "stdout",
     "output_type": "stream",
     "text": [
      "liste somme: [1, 3, 8] 12\n",
      "liste multiple: [2, 4, 2] 16\n"
     ]
    }
   ],
   "source": [
    "                   #question3\n",
    "\n",
    "#a=[1,2,3,4,8,2]\n",
    "def somme_liste(a):\n",
    "    b=0\n",
    "    for i in range(len(a)):\n",
    "        b=b+a[i]\n",
    "    return b\n",
    "def multiple_liste(a):\n",
    "    b=1\n",
    "    for i in range(len(a)):\n",
    "        b=b*a[i]\n",
    "    return b\n",
    "def somme_multiple(a):\n",
    "    s=[]\n",
    "    m=[]\n",
    "    for i in range(len(a)):\n",
    "        if i%2==0:\n",
    "            s.append(a[i])\n",
    "        else:\n",
    "            m.append(a[i])\n",
    "    som=somme_liste(s)\n",
    "    mut=multiple_liste(m)\n",
    "    print(\"liste somme:\",s,som)\n",
    "    print(\"liste multiple:\",m,mut)\n",
    "somme_multiple(a)           "
   ]
  },
  {
   "cell_type": "code",
   "execution_count": 35,
   "id": "698a4208",
   "metadata": {},
   "outputs": [
    {
     "name": "stdout",
     "output_type": "stream",
     "text": [
      "black-green-red-white-yellow\n"
     ]
    }
   ],
   "source": [
    "                 #question4\n",
    "\n",
    "def arrangement(a):\n",
    "    \n",
    "    b=a.split(\"-\")\n",
    "    b.sort()\n",
    "    c=b[0]\n",
    "    for i in range(1,len(b)):\n",
    "        c=c+\"-\"+b[i]\n",
    "    return c\n",
    "a=\"green-red-yellow-black-white\"\n",
    "print(arrangement(a))"
   ]
  },
  {
   "cell_type": "code",
   "execution_count": 69,
   "id": "65a4f0a6",
   "metadata": {},
   "outputs": [
    {
     "name": "stdout",
     "output_type": "stream",
     "text": [
      "donnee votre sairie des numbr:100,150,180\n"
     ]
    },
    {
     "data": {
      "text/plain": [
       "'q=18,22,24'"
      ]
     },
     "execution_count": 69,
     "metadata": {},
     "output_type": "execute_result"
    }
   ],
   "source": [
    "            #question5\n",
    "def saisie():\n",
    "    a=input(\"donnee votre sairie des numbr:\")\n",
    "    return a\n",
    "def function(a):\n",
    "    c=50\n",
    "    h=30\n",
    "    x=int(math.sqrt((2*c*a)/h))    \n",
    "    return x\n",
    "\n",
    "def final():\n",
    "    a=saisie()\n",
    "    b=a.split(\",\")\n",
    "    c=[]\n",
    "    x=[]\n",
    "    for i in range(len(b)):\n",
    "        d=int(b[i])\n",
    "        c.insert(i,d)\n",
    "    for i in range(len(c)):\n",
    "        x.insert(i,function(c[i]))\n",
    "    q=\"q=\"+str(x[0])\n",
    "    for i in range(1,len(x)):\n",
    "        q=q+\",\"+str(x[i])\n",
    "    return q\n",
    "final()\n",
    "    \n",
    "    \n",
    "\n",
    "    \n",
    "    \n",
    "   "
   ]
  }
 ],
 "metadata": {
  "kernelspec": {
   "display_name": "Python 3",
   "language": "python",
   "name": "python3"
  },
  "language_info": {
   "codemirror_mode": {
    "name": "ipython",
    "version": 3
   },
   "file_extension": ".py",
   "mimetype": "text/x-python",
   "name": "python",
   "nbconvert_exporter": "python",
   "pygments_lexer": "ipython3",
   "version": "3.8.8"
  }
 },
 "nbformat": 4,
 "nbformat_minor": 5
}
