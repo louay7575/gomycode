{
 "cells": [
  {
   "cell_type": "code",
   "execution_count": null,
   "id": "448b7908",
   "metadata": {},
   "outputs": [],
   "source": [
    "import numpy as np\n",
    "a=np.array([[1,2,3],[4,5,6],[7,8,9]])\n",
    "def conv_list(a):\n",
    "    b=a.tolist()\n",
    "    return b\n",
    "print(a)\n",
    "print(conv_list(a))\n"
   ]
  },
  {
   "cell_type": "code",
   "execution_count": null,
   "id": "e81468fa",
   "metadata": {},
   "outputs": [],
   "source": [
    "def sum_diag(a):\n",
    "    b=a.shape\n",
    "    c=0\n",
    "    if b[0]<=b[1]:\n",
    "        for i in range(b[0]):\n",
    "            c=a[i,i]+c\n",
    "    else:\n",
    "        for i in range(b[1]):\n",
    "            c=a[i,i]+c\n",
    "\n",
    "    return c\n",
    "a=np.array([[1,2],[4,5],[7,8]])\n",
    "print(sum_diag(a))"
   ]
  },
  {
   "cell_type": "code",
   "execution_count": null,
   "id": "a6242a3e",
   "metadata": {},
   "outputs": [],
   "source": [
    "def higher(a,x):\n",
    "    b=a.shape\n",
    "    c=[]\n",
    "    for i in range(b[0]):\n",
    "        for j in range(b[1]):\n",
    "            if a[i,j]>x:\n",
    "                c.append(a[i,j])\n",
    "    if c!=[]:\n",
    "        return \"{} are higher than {}\".format(c,x)\n",
    "    else :\n",
    "        return \"no nmbr are higher than{}\".format(x)\n",
    "a=np.array([[1,2,3],[4,5,6],[7,8,9]])\n",
    "x=int(input(\"donnee x: \"))\n",
    "print(higher(a,x))"
   ]
  },
  {
   "cell_type": "code",
   "execution_count": null,
   "id": "b69416ab",
   "metadata": {},
   "outputs": [],
   "source": [
    "def addit(a,b):\n",
    "    return(a+b)\n",
    "\n",
    "a=np.array([[1,2,3],[4,5,6],[7,8,9]])\n",
    "b=np.array([[1,1,1],[1,1,1],[1,1,1]])\n",
    "print(addit(a,b))"
   ]
  },
  {
   "cell_type": "code",
   "execution_count": null,
   "id": "b0e78e56",
   "metadata": {},
   "outputs": [],
   "source": [
    "def mean_matrix(a):\n",
    "    b=a.shape\n",
    "    l=[]\n",
    "    for i in range(b[0]):\n",
    "        c=0\n",
    "        for j in range(b[1]):\n",
    "            c=c+a[i,j]\n",
    "        c=c/b[1]\n",
    "        for j in range(b[1]):\n",
    "            l.append(c)\n",
    "    m=np.array(l)\n",
    "    m=m.reshape(b)\n",
    "    a=a-m\n",
    "    return a\n",
    "a=np.array([[1,2,3],[4,5,6],[7,8,9]])\n",
    "print(mean_matrix(a))\n",
    "    "
   ]
  }
 ],
 "metadata": {
  "kernelspec": {
   "display_name": "Python 3",
   "language": "python",
   "name": "python3"
  },
  "language_info": {
   "codemirror_mode": {
    "name": "ipython",
    "version": 3
   },
   "file_extension": ".py",
   "mimetype": "text/x-python",
   "name": "python",
   "nbconvert_exporter": "python",
   "pygments_lexer": "ipython3",
   "version": "3.8.8"
  }
 },
 "nbformat": 4,
 "nbformat_minor": 5
}
