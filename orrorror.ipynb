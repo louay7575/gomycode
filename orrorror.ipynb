{
 "cells": [
  {
   "cell_type": "code",
   "execution_count": 7,
   "id": "f258e263",
   "metadata": {},
   "outputs": [],
   "source": [
    "\n",
    "def remove_match_char(list1, list2):\n",
    " \n",
    "    for i in range(len(list1)) :\n",
    "        for j in range(len(list2)) :\n",
    " \n",
    "\n",
    "            if list1[i] == list2[j] :\n",
    "                c = list1[i]\n",
    " \n",
    "                \n",
    "                list1.remove(c)\n",
    "                list2.remove(c)\n",
    "                list3 = list1 + [\"*\"] + list2\n",
    "                return [list3, True]\n",
    "    list3 = list1 + [\"*\"] + list2\n",
    "    return [list3, False]"
   ]
  }
 ],
 "metadata": {
  "kernelspec": {
   "display_name": "Python 3",
   "language": "python",
   "name": "python3"
  },
  "language_info": {
   "codemirror_mode": {
    "name": "ipython",
    "version": 3
   },
   "file_extension": ".py",
   "mimetype": "text/x-python",
   "name": "python",
   "nbconvert_exporter": "python",
   "pygments_lexer": "ipython3",
   "version": "3.8.8"
  }
 },
 "nbformat": 4,
 "nbformat_minor": 5
}
